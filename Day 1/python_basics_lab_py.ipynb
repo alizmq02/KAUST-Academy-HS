{
  "cells": [
    {
      "cell_type": "markdown",
      "metadata": {
        "id": "6SJBbukc1n2C"
      },
      "source": [
        "![image.png](https://i.imgur.com/a3uAqnb.png)"
      ]
    },
    {
      "cell_type": "markdown",
      "metadata": {
        "id": "31UmGUGU1n2H"
      },
      "source": [
        "# 🐍 Python Basics Lab - KAUST Academy\n",
        "---\n",
        "### 🎯 **Lab Objectives:**\n",
        "1. **Learn Python fundamentals** from scratch 🚀\n",
        "2. **Master basic programming concepts** step by step\n",
        "3. **Write your first programs** with confidence\n",
        "4. **Build a calculator** that can add and subtract 4 numbers\n",
        "5. **Prepare for advanced programming** adventures ahead!\n",
        "\n",
        "---\n",
        "### 📚 **What You'll Learn:**\n",
        "- **Variables and Data Types:** Storing information like a pro\n",
        "- **Operations:** Making computers do math for you\n",
        "- **Input/Output:** Interactive programs that talk to users\n",
        "- **Control Structures:** Making decisions and repeating actions\n",
        "- **Functions:** Writing reusable code blocks\n",
        "- **Lists:** Working with collections of data\n",
        "- **Final Project:** Building your own calculator!\n",
        "\n",
        "---\n",
        "\n",
        "**🎉 Ready to become a Python programmer? Let's dive in!**"
      ]
    },
    {
      "cell_type": "markdown",
      "metadata": {
        "id": "AVnsCMtD1n2J"
      },
      "source": [
        "# **📌 Chapter 1: Your First Python Program**\n",
        "\n",
        "Let's start with the classic \"Hello, World!\" program - every programmer's first step! 🌍\n",
        "\n",
        "## **🔹 The Magic of `print()`**\n",
        "The `print()` function displays text on the screen. Think of it as Python's way of talking to you!"
      ]
    },
    {
      "cell_type": "code",
      "execution_count": null,
      "metadata": {
        "id": "Z2d5TfTJ1n2J"
      },
      "outputs": [],
      "source": [
        "# Your very first Python program!\n",
        "print(\"Hello, World!\")\n",
        "print(\"Welcome to KAUST Academy! 🚀\")\n",
        "print(\"I'm learning Python programming!\")"
      ]
    },
    {
      "cell_type": "markdown",
      "metadata": {
        "id": "unswnslD1n2L"
      },
      "source": [
        "## **🎯 Try It Yourself!**\n",
        "**Exercise 1:** Write a program that introduces yourself!"
      ]
    },
    {
      "cell_type": "code",
      "execution_count": null,
      "metadata": {
        "id": "dH6J9J_v1n2L"
      },
      "outputs": [],
      "source": [
        "# TODO: Write your introduction here!\n",
        "# Example: print(\"Hi! My name is [Your Name]\")\n",
        "# Add at least 3 lines about yourself\n",
        "\n",
        "# Your code here:\n"
      ]
    },
    {
      "cell_type": "markdown",
      "metadata": {
        "id": "GA6Cyh_M1n2M"
      },
      "source": [
        "# **📌 Chapter 2: Variables - Storing Information**\n",
        "\n",
        "Variables are like **labeled boxes** where you can store information! 📦\n",
        "\n",
        "## **🔹 Creating Variables**\n",
        "In Python, creating a variable is super easy - just give it a name and a value!"
      ]
    },
    {
      "cell_type": "code",
      "execution_count": null,
      "metadata": {
        "id": "VHYwf4KJ1n2M"
      },
      "outputs": [],
      "source": [
        "# Creating variables\n",
        "name = \"Ahmed\"           # Text (string)\n",
        "age = 16                 # Number (integer)\n",
        "height = 1.75           # Decimal number (float)\n",
        "is_student = True       # True/False (boolean)\n",
        "\n",
        "# Using variables\n",
        "print(\"Name:\", name)\n",
        "print(\"Age:\", age)\n",
        "print(\"Height:\", height, \"meters\")\n",
        "print(\"Is student:\", is_student)"
      ]
    },
    {
      "cell_type": "markdown",
      "metadata": {
        "id": "lZCmmKWU1n2M"
      },
      "source": [
        "## **🔹 Variable Types in Python**\n",
        "\n",
        "| **Type** | **Description** | **Example** |\n",
        "|----------|-----------------|-------------|\n",
        "| **str** (String) | Text data | `\"Hello World\"` |\n",
        "| **int** (Integer) | Whole numbers | `42` |\n",
        "| **float** (Float) | Decimal numbers | `3.14159` |\n",
        "| **bool** (Boolean) | True/False | `True` |\n",
        "| **list** (List) | Multiple items | `[1, 2, 3]` |"
      ]
    },
    {
      "cell_type": "code",
      "execution_count": null,
      "metadata": {
        "id": "blAlHprz1n2M"
      },
      "outputs": [],
      "source": [
        "# Let's explore different data types\n",
        "student_name = \"Fatima\"                    # String\n",
        "test_score = 95                            # Integer\n",
        "gpa = 3.85                                # Float\n",
        "passed_exam = True                        # Boolean\n",
        "favorite_subjects = [\"Math\", \"Science\", \"Programming\"]  # List\n",
        "\n",
        "# Check the type of variables\n",
        "print(\"Type of student_name:\", type(student_name))\n",
        "print(\"Type of test_score:\", type(test_score))\n",
        "print(\"Type of gpa:\", type(gpa))\n",
        "print(\"Type of passed_exam:\", type(passed_exam))\n",
        "print(\"Type of favorite_subjects:\", type(favorite_subjects))"
      ]
    },
    {
      "cell_type": "markdown",
      "metadata": {
        "id": "xPXAEQTF1n2N"
      },
      "source": [
        "## **🎯 Practice Time!**\n",
        "**Exercise 2:** Create variables about yourself!"
      ]
    },
    {
      "cell_type": "code",
      "execution_count": null,
      "metadata": {
        "id": "ANuE_2ht1n2N"
      },
      "outputs": [],
      "source": [
        "# TODO: Create variables about yourself\n",
        "# Include: your_name (string), your_age (int), your_height (float),\n",
        "# likes_programming (boolean), hobbies (list)\n",
        "\n",
        "# Your code here:\n",
        "your_name =\n",
        "your_age =\n",
        "your_height =\n",
        "likes_programming =\n",
        "hobbies =\n",
        "\n",
        "# Print your information\n",
        "print(\"📝 My Information\")\n",
        "print(\"Name:\", your_name)\n",
        "print(\"Age:\", your_age, \"years old\")\n",
        "print(\"Height:\", your_height, \"meters\")\n",
        "print(\"Likes programming:\", likes_programming)\n",
        "print(\"Hobbies:\", hobbies)"
      ]
    },
    {
      "cell_type": "markdown",
      "metadata": {
        "id": "YT8FWUCk1n2N"
      },
      "source": [
        "# **📌 Chapter 3: Mathematical Operations**\n",
        "\n",
        "Let's learn how to make Python do calculations for us! 🧮\n",
        "\n",
        "## **🔹 Basic Math Operations**"
      ]
    },
    {
      "cell_type": "code",
      "execution_count": null,
      "metadata": {
        "id": "x0_RLqLG1n2N"
      },
      "outputs": [],
      "source": [
        "# Basic mathematical operations\n",
        "a = 20\n",
        "b = 8\n",
        "\n",
        "print(f\"a = {a}, b = {b}\")\n",
        "print(\"\\n🧮 Basic Operations:\")\n",
        "print(f\"Addition: {a} + {b} = {a + b}\")\n",
        "print(f\"Subtraction: {a} - {b} = {a - b}\")\n",
        "print(f\"Multiplication: {a} * {b} = {a * b}\")\n",
        "print(f\"Division: {a} / {b} = {a / b}\")\n",
        "print(f\"Floor Division: {a} // {b} = {a // b}\")\n",
        "print(f\"Modulus (remainder): {a} % {b} = {a % b}\")\n",
        "print(f\"Exponentiation: {a} ** 2 = {a ** 2}\")"
      ]
    },
    {
      "cell_type": "markdown",
      "metadata": {
        "id": "7xy3P3Gv1n2N"
      },
      "source": [
        "## **🔹 Order of Operations (PEMDAS)**\n",
        "Python follows the same order as mathematics: Parentheses, Exponents, Multiplication/Division, Addition/Subtraction"
      ]
    },
    {
      "cell_type": "code",
      "execution_count": null,
      "metadata": {
        "id": "5N7fr3sI1n2N"
      },
      "outputs": [],
      "source": [
        "# Order of operations examples\n",
        "result1 = 2 + 3 * 4\n",
        "result2 = (2 + 3) * 4\n",
        "result3 = 2 ** 3 + 1\n",
        "result4 = 10 / 2 + 3 * 2\n",
        "\n",
        "print(\"Order of Operations:\")\n",
        "print(f\"2 + 3 * 4 = {result1}\")\n",
        "print(f\"(2 + 3) * 4 = {result2}\")\n",
        "print(f\"2 ** 3 + 1 = {result3}\")\n",
        "print(f\"10 / 2 + 3 * 2 = {result4}\")"
      ]
    },
    {
      "cell_type": "markdown",
      "metadata": {
        "id": "Ll7XYvwJ1n2N"
      },
      "source": [
        "## **🎯 Math Challenge!**\n",
        "**Exercise 3:** Solve these calculations using Python!"
      ]
    },
    {
      "cell_type": "code",
      "execution_count": null,
      "metadata": {
        "id": "0YpfFuaK1n2O"
      },
      "outputs": [],
      "source": [
        "# TODO: Calculate the following using Python variables\n",
        "\n",
        "# 1. A classroom has 25 students. Each student needs 3 notebooks.\n",
        "#    How many notebooks in total?\n",
        "students = 25\n",
        "notebooks_per_student = 3\n",
        "total_notebooks = # Your calculation here\n",
        "\n",
        "print(f\"Total notebooks needed: {total_notebooks}\")\n",
        "\n",
        "# 2. You have 100 SAR. You buy 3 items costing 15, 25, and 18 SAR.\n",
        "#    How much money do you have left?\n",
        "starting_money = 100\n",
        "item1 = 15\n",
        "item2 = 25\n",
        "item3 = 18\n",
        "money_left = # Your calculation here\n",
        "\n",
        "print(f\"Money left: {money_left} SAR\")\n",
        "\n",
        "# 3. Calculate the area of a rectangle with length 12 and width 8\n",
        "length = 12\n",
        "width = 8\n",
        "area = # Your calculation here\n",
        "\n",
        "print(f\"Area of rectangle: {area}\")"
      ]
    },
    {
      "cell_type": "markdown",
      "metadata": {
        "id": "aNrG9T6l1n2O"
      },
      "source": [
        "# **📌 Chapter 4: Getting Input from Users**\n",
        "\n",
        "Let's make our programs interactive! The `input()` function lets users type information. 🎤\n",
        "\n",
        "## **🔹 Basic Input**"
      ]
    },
    {
      "cell_type": "code",
      "execution_count": null,
      "metadata": {
        "id": "rQk9SKk31n2O"
      },
      "outputs": [],
      "source": [
        "# Getting input from the user\n",
        "print(\"🤖 Hello! Let me get to know you.\")\n",
        "\n",
        "user_name = input(\"What's your name? \")\n",
        "user_age = input(\"How old are you? \")\n",
        "favorite_subject = input(\"What's your favorite subject? \")\n",
        "\n",
        "# Display the information\n",
        "print(f\"\\nNice to meet you, {user_name}!\")\n",
        "print(f\"You are {user_age} years old.\")\n",
        "print(f\"I love that you enjoy {favorite_subject}!\")"
      ]
    },
    {
      "cell_type": "markdown",
      "metadata": {
        "id": "5IzGYu141n2O"
      },
      "source": [
        "## **🔹 Converting Input Types**\n",
        "**Important:** `input()` always returns text (string). For math, we need to convert!"
      ]
    },
    {
      "cell_type": "code",
      "execution_count": null,
      "metadata": {
        "id": "xMi5H24_1n2O"
      },
      "outputs": [],
      "source": [
        "# Converting input to numbers\n",
        "print(\"🧮 Let's do some math together!\")\n",
        "\n",
        "# Getting numbers from user\n",
        "num1_text = input(\"Enter first number: \")\n",
        "num2_text = input(\"Enter second number: \")\n",
        "\n",
        "# Convert to numbers\n",
        "num1 = float(num1_text)  # Can handle decimals\n",
        "num2 = float(num2_text)\n",
        "\n",
        "# Perform calculations\n",
        "sum_result = num1 + num2\n",
        "difference = num1 - num2\n",
        "product = num1 * num2\n",
        "\n",
        "print(f\"\\n📊 Results:\")\n",
        "print(f\"{num1} + {num2} = {sum_result}\")\n",
        "print(f\"{num1} - {num2} = {difference}\")\n",
        "print(f\"{num1} * {num2} = {product}\")\n",
        "\n",
        "if num2 != 0:  # Avoid division by zero\n",
        "    division = num1 / num2\n",
        "    print(f\"{num1} / {num2} = {division}\")\n",
        "else:\n",
        "    print(\"Cannot divide by zero!\")"
      ]
    },
    {
      "cell_type": "markdown",
      "metadata": {
        "id": "o4xKG5qI1n2O"
      },
      "source": [
        "# **📌 Chapter 5: Making Decisions with If Statements**\n",
        "\n",
        "Programs need to make decisions! Let's learn how to use `if` statements. 🤔\n",
        "\n",
        "## **🔹 Basic If Statements**"
      ]
    },
    {
      "cell_type": "code",
      "execution_count": null,
      "metadata": {
        "id": "y3T99KhU1n2P"
      },
      "outputs": [],
      "source": [
        "# Simple if statement\n",
        "temperature = 25\n",
        "\n",
        "print(f\"Current temperature: {temperature}°C\")\n",
        "\n",
        "if temperature > 30:\n",
        "    print(\"🔥 It's hot! Turn on the AC.\")\n",
        "elif temperature > 20:\n",
        "    print(\"🌤️ Perfect weather!\")\n",
        "elif temperature > 10:\n",
        "    print(\"🧥 A bit cool, wear a jacket.\")\n",
        "else:\n",
        "    print(\"🥶 It's cold! Stay warm!\")"
      ]
    },
    {
      "cell_type": "markdown",
      "metadata": {
        "id": "O05c_JiR1n2P"
      },
      "source": [
        "## **🔹 Comparison Operators**\n",
        "These are the tools for making comparisons in your programs:\n",
        "\n",
        "| **Operator** | **Meaning** | **Example** |\n",
        "|--------------|-------------|-------------|\n",
        "| `==` | Equal to | `x == 5` |\n",
        "| `!=` | Not equal to | `x != 5` |\n",
        "| `>` | Greater than | `x > 5` |\n",
        "| `<` | Less than | `x < 5` |\n",
        "| `>=` | Greater than or equal | `x >= 5` |\n",
        "| `<=` | Less than or equal | `x <= 5` |"
      ]
    },
    {
      "cell_type": "code",
      "execution_count": null,
      "metadata": {
        "id": "zfDpCpX81n2P"
      },
      "outputs": [],
      "source": [
        "# Grade Classifier\n",
        "print(\"🎓 Grade Classifier\")\n",
        "score = float(input(\"Enter your test score (0-100): \"))\n",
        "\n",
        "# Multiple conditions\n",
        "if score >= 90:\n",
        "    grade = \"A\"\n",
        "    message = \"🌟 Outstanding! Excellent work!\"\n",
        "elif score >= 80:\n",
        "    grade = \"B\"\n",
        "    message = \"👏 Great job! Keep it up!\"\n",
        "elif score >= 70:\n",
        "    grade = \"C\"\n",
        "    message = \"👍 Good work! You can do better!\"\n",
        "elif score >= 60:\n",
        "    grade = \"D\"\n",
        "    message = \"📚 Keep studying! You're getting there!\"\n",
        "else:\n",
        "    grade = \"F\"\n",
        "    message = \"💪 Don't give up! Practice makes perfect!\"\n",
        "\n",
        "print(f\"\\nYour grade: {grade}\")\n",
        "print(message)"
      ]
    },
    {
      "cell_type": "markdown",
      "metadata": {
        "id": "p5TeJAA41n2P"
      },
      "source": [
        "## **🎯 Decision Challenge!**\n",
        "**Exercise 4:** Create a simple recommendation system!"
      ]
    },
    {
      "cell_type": "code",
      "execution_count": null,
      "metadata": {
        "id": "tUb1_flM1n2P"
      },
      "outputs": [],
      "source": [
        "# TODO: Create a movie recommendation system\n",
        "# Ask user for their age and favorite genre\n",
        "# Recommend movies based on their preferences\n",
        "\n",
        "print(\"🎬 Movie Recommendation System\")\n",
        "\n",
        "# Get user input\n",
        "age = int(input(\"What's your age? \"))\n",
        "genre = input(\"What's your favorite genre? (action/comedy/drama/horror): \").lower()\n",
        "\n",
        "# Your recommendation logic here\n",
        "# Use if statements to recommend different movies based on age and genre\n",
        "\n",
        "if age < 13:\n",
        "    # Your code for kids\n",
        "    print(\"For kids movies...\")\n",
        "elif age < 18:\n",
        "    # Your code for teens\n",
        "    print(\"For teen movies...\")\n",
        "else:\n",
        "    # Your code for adults\n",
        "    print(\"For adult movies...\")\n",
        "\n",
        "print(\"\\n🤖 Thank you for using our recommendation system!\")"
      ]
    },
    {
      "cell_type": "markdown",
      "metadata": {
        "id": "mVH209q41n2P"
      },
      "source": [
        "# **📌 Chapter 6: Loops - Repeating Actions**\n",
        "\n",
        "Loops help us repeat actions efficiently! 🔄\n",
        "\n",
        "## **🔹 For Loops - Counting and Iterating**"
      ]
    },
    {
      "cell_type": "code",
      "execution_count": null,
      "metadata": {
        "id": "mHBmtqk31n2Q"
      },
      "outputs": [],
      "source": [
        "# Basic for loop\n",
        "print(\"🚀 Countdown!\")\n",
        "for i in range(5, 0, -1):\n",
        "    print(f\"{i}...\")\n",
        "print(\"🎉 Blast off!\")\n",
        "\n",
        "print(\"\\n\" + \"=\"*30)\n",
        "\n",
        "# Looping through a list\n",
        "subjects = [\"Math\", \"Science\", \"English\", \"History\", \"Programming\"]\n",
        "\n",
        "print(\"📚 My Subjects:\")\n",
        "for index, subject in enumerate(subjects, 1):\n",
        "    print(f\"{index}. {subject}\")\n",
        "\n",
        "print(\"\\n\" + \"=\"*30)\n",
        "\n",
        "# Multiplication table\n",
        "number = 7\n",
        "print(f\"📊 Multiplication Table for {number}:\")\n",
        "for i in range(1, 11):\n",
        "    result = number * i\n",
        "    print(f\"{number} x {i} = {result}\")"
      ]
    },
    {
      "cell_type": "markdown",
      "metadata": {
        "id": "dAN-ovuM1n2Q"
      },
      "source": [
        "## **🔹 While Loops - Repeating Until a Condition**"
      ]
    },
    {
      "cell_type": "code",
      "execution_count": null,
      "metadata": {
        "id": "G2El82vO1n2Q"
      },
      "outputs": [],
      "source": [
        "# While loop example - counting until target\n",
        "print(\"🎯 Counting to target number\")\n",
        "\n",
        "target = 10\n",
        "current = 1\n",
        "\n",
        "while current <= target:\n",
        "    print(f\"Count: {current}\")\n",
        "    current += 1  # Same as: current = current + 1\n",
        "\n",
        "print(\"✅ Reached the target!\")\n",
        "\n",
        "print(\"\\n\" + \"=\"*30)\n",
        "\n",
        "# Guessing game\n",
        "import random\n",
        "secret_number = random.randint(1, 10)\n",
        "attempts = 0\n",
        "max_attempts = 3\n",
        "\n",
        "print(\"🎮 Guessing Game! I'm thinking of a number between 1 and 10.\")\n",
        "print(f\"You have {max_attempts} attempts.\")\n",
        "\n",
        "while attempts < max_attempts:\n",
        "    guess = int(input(f\"\\nAttempt {attempts + 1}: Enter your guess: \"))\n",
        "    attempts += 1\n",
        "\n",
        "    if guess == secret_number:\n",
        "        print(f\"🎉 Congratulations! You guessed it in {attempts} attempts!\")\n",
        "        break\n",
        "    elif guess < secret_number:\n",
        "        print(\"📈 Too low!\")\n",
        "    else:\n",
        "        print(\"📉 Too high!\")\n",
        "\n",
        "    if attempts == max_attempts:\n",
        "        print(f\"\\n😅 Game over! The number was {secret_number}\")"
      ]
    },
    {
      "cell_type": "markdown",
      "metadata": {
        "id": "c36qgI7w1n2Q"
      },
      "source": [
        "## **🎯 Loop Challenge!**\n",
        "**Exercise 5:** Create patterns and solve problems!"
      ]
    },
    {
      "cell_type": "code",
      "execution_count": null,
      "metadata": {
        "id": "vd3X1hUa1n2Q"
      },
      "outputs": [],
      "source": [
        "# TODO: Complete these loop challenges\n",
        "\n",
        "# Challenge 1: Create a multiplication table for any number\n",
        "print(\"📊 Challenge 1: Multiplication Table\")\n",
        "number = int(input(\"Enter a number for multiplication table: \"))\n",
        "\n",
        "for i in range(1, 11):\n",
        "    # Your code here: print the multiplication table\n",
        "    pass\n",
        "\n",
        "print(\"\\n\" + \"=\"*40)\n",
        "\n",
        "# Challenge 2: Sum of numbers\n",
        "print(\"➕ Challenge 2: Sum Calculator\")\n",
        "n = int(input(\"Enter a number to sum from 1 to n: \"))\n",
        "total = 0\n",
        "\n",
        "# Your code here: calculate sum of numbers from 1 to n\n",
        "for i in range(1, n + 1):\n",
        "    # Add to total\n",
        "    pass\n",
        "\n",
        "print(f\"Sum from 1 to {n} = {total}\")\n",
        "\n",
        "print(\"\\n\" + \"=\"*40)\n",
        "\n",
        "# Challenge 3: Pattern printing\n",
        "print(\"🎨 Challenge 3: Star Pattern\")\n",
        "rows = 5\n",
        "\n",
        "# Create a triangle pattern with stars\n",
        "for i in range(1, rows + 1):\n",
        "    # Your code here: print i stars\n",
        "    pass"
      ]
    },
    {
      "cell_type": "markdown",
      "metadata": {
        "id": "KEW1lauC1n2Q"
      },
      "source": [
        "# **📌 Chapter 7: Functions - Reusable Code Blocks**\n",
        "\n",
        "Functions are like mini-programs that do specific tasks! 🔧\n",
        "\n",
        "## **🔹 Creating Your First Function**"
      ]
    },
    {
      "cell_type": "code",
      "execution_count": null,
      "metadata": {
        "id": "YUlaEKaY1n2R"
      },
      "outputs": [],
      "source": [
        "# Define a simple function\n",
        "def greet_student(name):\n",
        "    \"\"\"Greets a student with enthusiasm!\"\"\"\n",
        "    print(f\"🎓 Hello {name}! Welcome to programming!\")\n",
        "    print(\"🚀 Ready to learn Python?\")\n",
        "\n",
        "# Call the function\n",
        "greet_student(\"Sara\")\n",
        "greet_student(\"Omar\")\n",
        "\n",
        "print(\"\\n\" + \"=\"*40)\n",
        "\n",
        "# Function that returns a value\n",
        "def calculate_circle_area(radius):\n",
        "    \"\"\"Calculates the area of a circle\"\"\"\n",
        "    pi = 3.14159\n",
        "    area = pi * radius * radius\n",
        "    return area\n",
        "\n",
        "# Test the function\n",
        "circle_area = calculate_circle_area(5)\n",
        "print(f\"🔵 Area of circle with radius 5: {circle_area:.2f}\")\n",
        "\n",
        "# Function with multiple parameters\n",
        "def calculate_rectangle_area(length, width):\n",
        "    \"\"\"Calculates the area of a rectangle\"\"\"\n",
        "    area = length * width\n",
        "    return area\n",
        "\n",
        "# Test with different values\n",
        "rect_area = calculate_rectangle_area(10, 6)\n",
        "print(f\"📐 Area of rectangle (10x6): {rect_area}\")"
      ]
    },
    {
      "cell_type": "markdown",
      "metadata": {
        "id": "r6cZkB9K1n2R"
      },
      "source": [
        "## **🔹 More Useful Functions**"
      ]
    },
    {
      "cell_type": "code",
      "execution_count": null,
      "metadata": {
        "id": "gxuLVSUB1n2R"
      },
      "outputs": [],
      "source": [
        "# Mathematical functions\n",
        "def celsius_to_fahrenheit(celsius):\n",
        "    \"\"\"Converts Celsius to Fahrenheit\"\"\"\n",
        "    fahrenheit = (celsius * 9/5) + 32\n",
        "    return fahrenheit\n",
        "\n",
        "def is_even(number):\n",
        "    \"\"\"Checks if a number is even\"\"\"\n",
        "    return number % 2 == 0\n",
        "\n",
        "def find_maximum(a, b, c):\n",
        "    \"\"\"Finds the maximum of three numbers\"\"\"\n",
        "    if a >= b and a >= c:\n",
        "        return a\n",
        "    elif b >= a and b >= c:\n",
        "        return b\n",
        "    else:\n",
        "        return c\n",
        "\n",
        "# Test the functions\n",
        "print(\"🧪 Testing Functions:\")\n",
        "print(f\"25°C = {celsius_to_fahrenheit(25):.1f}°F\")\n",
        "print(f\"Is 8 even? {is_even(8)}\")\n",
        "print(f\"Is 7 even? {is_even(7)}\")\n",
        "print(f\"Maximum of 5, 12, 8: {find_maximum(5, 12, 8)}\")"
      ]
    },
    {
      "cell_type": "markdown",
      "metadata": {
        "id": "A8reEYmE1n2R"
      },
      "source": [
        "## **🎯 Function Challenge!**\n",
        "**Exercise 6:** Create your own useful functions!"
      ]
    },
    {
      "cell_type": "code",
      "execution_count": null,
      "metadata": {
        "id": "x2FriPVk1n2i"
      },
      "outputs": [],
      "source": [
        "# TODO: Create these functions\n",
        "\n",
        "def calculate_average(num1, num2, num3):\n",
        "    \"\"\"Calculates the average of three numbers\"\"\"\n",
        "    # Your code here\n",
        "    pass\n",
        "\n",
        "def is_positive(number):\n",
        "    \"\"\"Checks if a number is positive\"\"\"\n",
        "    # Your code here\n",
        "    pass\n",
        "\n",
        "def count_vowels(text):\n",
        "    \"\"\"Counts the number of vowels in a text\"\"\"\n",
        "    # Your code here: count a, e, i, o, u\n",
        "    pass\n",
        "\n",
        "def factorial(n):\n",
        "    \"\"\"Calculates factorial of n (n!)\"\"\"\n",
        "    # Your code here: n! = n * (n-1) * (n-2) * ... * 1\n",
        "    pass\n",
        "\n",
        "# Test your functions\n",
        "print(\"🧪 Testing Your Functions:\")\n",
        "# print(f\"Average of 10, 20, 30: {calculate_average(10, 20, 30)}\")\n",
        "# print(f\"Is -5 positive? {is_positive(-5)}\")\n",
        "# print(f\"Vowels in 'Hello World': {count_vowels('Hello World')}\")\n",
        "# print(f\"5! = {factorial(5)}\")"
      ]
    },
    {
      "cell_type": "markdown",
      "metadata": {
        "id": "cr-8wsHx1n2j"
      },
      "source": [
        "# **📌 Chapter 8: Lists - Working with Collections**\n",
        "\n",
        "Lists are perfect for storing multiple items! 📊\n",
        "\n",
        "## **🔹 Creating and Using Lists**"
      ]
    },
    {
      "cell_type": "code",
      "execution_count": null,
      "metadata": {
        "id": "yclj7_ig1n2j"
      },
      "outputs": [],
      "source": [
        "# Creating lists\n",
        "fruits = [\"apple\", \"banana\", \"orange\", \"grape\", \"kiwi\"]\n",
        "numbers = [10, 25, 30, 45, 50]\n",
        "mixed_list = [\"John\", 25, True, 3.14]\n",
        "\n",
        "print(\"🍎 Fruits:\", fruits)\n",
        "print(\"🔢 Numbers:\", numbers)\n",
        "print(\"📦 Mixed list:\", mixed_list)\n",
        "\n",
        "# Accessing list elements\n",
        "print(f\"\\n🔍 First fruit: {fruits[0]}\")\n",
        "print(f\"🔍 Last number: {numbers[-1]}\")\n",
        "print(f\"🔍 Third fruit: {fruits[2]}\")\n",
        "\n",
        "# List operations\n",
        "print(f\"\\n📈 List Information:\")\n",
        "print(f\"Number of fruits: {len(fruits)}\")\n",
        "print(f\"Largest number: {max(numbers)}\")\n",
        "print(f\"Smallest number: {min(numbers)}\")\n",
        "print(f\"Sum of numbers: {sum(numbers)}\")\n",
        "print(f\"Average: {sum(numbers) / len(numbers):.2f}\")"
      ]
    },
    {
      "cell_type": "markdown",
      "metadata": {
        "id": "oNIpLh8y1n2j"
      },
      "source": [
        "## **🔹 Modifying Lists**"
      ]
    },
    {
      "cell_type": "code",
      "execution_count": null,
      "metadata": {
        "id": "UbKWQDFA1n2j"
      },
      "outputs": [],
      "source": [
        "# Starting with an empty list\n",
        "shopping_list = []\n",
        "print(\"🛒 Starting shopping list:\", shopping_list)\n",
        "\n",
        "# Adding items\n",
        "shopping_list.append(\"milk\")\n",
        "shopping_list.append(\"bread\")\n",
        "shopping_list.append(\"eggs\")\n",
        "print(\"After adding items:\", shopping_list)\n",
        "\n",
        "# Adding multiple items\n",
        "more_items = [\"cheese\", \"apples\", \"rice\"]\n",
        "shopping_list.extend(more_items)\n",
        "print(\"After adding more items:\", shopping_list)\n",
        "\n",
        "# Removing items\n",
        "shopping_list.remove(\"bread\")\n",
        "print(\"After removing bread:\", shopping_list)\n",
        "\n",
        "# Inserting at specific position\n",
        "shopping_list.insert(1, \"butter\")\n",
        "print(\"After inserting butter:\", shopping_list)\n",
        "\n",
        "# Checking if item exists\n",
        "if \"milk\" in shopping_list:\n",
        "    print(\"✅ Milk is in the list!\")\n",
        "\n",
        "if \"chocolate\" not in shopping_list:\n",
        "    print(\"🍫 Let's add chocolate!\")\n",
        "    shopping_list.append(\"chocolate\")\n",
        "\n",
        "print(\"Final shopping list:\", shopping_list)"
      ]
    },
    {
      "cell_type": "markdown",
      "metadata": {
        "id": "fF8F5tvl1n2j"
      },
      "source": [
        "## **🔹 Processing Lists**"
      ]
    },
    {
      "cell_type": "code",
      "execution_count": null,
      "metadata": {
        "id": "9woy4Q711n2k"
      },
      "outputs": [],
      "source": [
        "# Processing student grades\n",
        "grades = [85, 92, 78, 96, 88, 91, 84]\n",
        "\n",
        "print(\"📊 Student Grades Analysis:\")\n",
        "print(f\"Grades: {grades}\")\n",
        "\n",
        "# Calculate statistics\n",
        "total_students = len(grades)\n",
        "total_points = sum(grades)\n",
        "average_grade = total_points / total_students\n",
        "highest_grade = max(grades)\n",
        "lowest_grade = min(grades)\n",
        "\n",
        "print(f\"\\n📈 Statistics:\")\n",
        "print(f\"Number of students: {total_students}\")\n",
        "print(f\"Average grade: {average_grade:.2f}\")\n",
        "print(f\"Highest grade: {highest_grade}\")\n",
        "print(f\"Lowest grade: {lowest_grade}\")\n",
        "\n",
        "# Count grades by category\n",
        "excellent = 0  # 90+\n",
        "good = 0       # 80-89\n",
        "fair = 0       # 70-79\n",
        "poor = 0       # Below 70\n",
        "\n",
        "for grade in grades:\n",
        "    if grade >= 90:\n",
        "        excellent += 1\n",
        "    elif grade >= 80:\n",
        "        good += 1\n",
        "    elif grade >= 70:\n",
        "        fair += 1\n",
        "    else:\n",
        "        poor += 1\n",
        "\n",
        "print(f\"\\n🏆 Grade Distribution:\")\n",
        "print(f\"Excellent (90+): {excellent} students\")\n",
        "print(f\"Good (80-89): {good} students\")\n",
        "print(f\"Fair (70-79): {fair} students\")\n",
        "print(f\"Poor (<70): {poor} students\")"
      ]
    },
    {
      "cell_type": "markdown",
      "metadata": {
        "id": "jEQEvlRM1n2k"
      },
      "source": [
        "# **📌 Final Project: Calculator that Adds or Subtracts 4 Numbers**\n",
        "\n",
        "Time to build the calculator from our assignment! This will use everything we've learned. 🧮\n",
        "\n",
        "## **🎯 Project Requirements:**\n",
        "- Create a calculator that can **add or subtract 4 numbers**\n",
        "- Make it **user-friendly** with clear instructions\n",
        "- Add **error handling** for invalid inputs\n",
        "- Show the calculation steps clearly"
      ]
    },
    {
      "cell_type": "code",
      "execution_count": null,
      "metadata": {
        "id": "UZ5tbyL81n2k"
      },
      "outputs": [],
      "source": [
        "# KAUST Academy Calculator - Final Project\n",
        "def simple_calculator():\n",
        "    \"\"\"Calculator that adds or subtracts 4 numbers\"\"\"\n",
        "    print(\"🧮 KAUST Academy Calculator\")\n",
        "    print(\"=\" * 40)\n",
        "    print(\"This calculator can add or subtract 4 numbers\")\n",
        "    print()\n",
        "\n",
        "    # Get 4 numbers from user with error handling\n",
        "    numbers = []\n",
        "    print(\"📝 Please enter 4 numbers:\")\n",
        "\n",
        "    for i in range(4):\n",
        "        while True:\n",
        "            try:\n",
        "                num = float(input(f\"Enter number {i+1}: \"))\n",
        "                numbers.append(num)\n",
        "                break\n",
        "            except ValueError:\n",
        "                print(\"❌ Please enter a valid number!\")\n",
        "\n",
        "    print(f\"\\n📊 Your numbers: {numbers}\")\n",
        "\n",
        "    # Choose operation\n",
        "    print(\"\\n🔧 Choose operation:\")\n",
        "    print(\"1. Add all numbers\")\n",
        "    print(\"2. Subtract (num1 - num2 - num3 - num4)\")\n",
        "\n",
        "    while True:\n",
        "        choice = input(\"\\nEnter 1 or 2: \")\n",
        "        if choice in ['1', '2']:\n",
        "            break\n",
        "        print(\"❌ Please enter 1 or 2!\")\n",
        "\n",
        "    # Calculate result\n",
        "    print(\"\\n📊 Calculation:\")\n",
        "\n",
        "    if choice == '1':\n",
        "        # Addition\n",
        "        result = sum(numbers)\n",
        "        calculation = \" + \".join(map(str, numbers))\n",
        "        print(f\"   {calculation} = {result}\")\n",
        "        print(f\"\\n✅ Result: {result}\")\n",
        "    else:\n",
        "        # Subtraction\n",
        "        result = numbers[0]\n",
        "        calculation = str(numbers[0])\n",
        "\n",
        "        for num in numbers[1:]:\n",
        "            result -= num\n",
        "            calculation += f\" - {num}\"\n",
        "\n",
        "        print(f\"   {calculation} = {result}\")\n",
        "        print(f\"\\n✅ Result: {result}\")\n",
        "\n",
        "    # Additional information\n",
        "    print(f\"\\n📈 Additional Info:\")\n",
        "    print(f\"   Sum of all numbers: {sum(numbers)}\")\n",
        "    print(f\"   Average: {sum(numbers)/4:.2f}\")\n",
        "    print(f\"   Largest number: {max(numbers)}\")\n",
        "    print(f\"   Smallest number: {min(numbers)}\")\n",
        "\n",
        "    return result\n",
        "\n",
        "# Run the calculator\n",
        "result = simple_calculator()\n",
        "print(f\"\\n🎉 Calculation completed! Final result: {result}\")\n",
        "print(\"Thank you for using KAUST Academy Calculator! 🚀\")"
      ]
    },
    {
      "cell_type": "markdown",
      "metadata": {
        "id": "miLVUa981n2k"
      },
      "source": [
        "## **🎯 Calculator Challenge!**\n",
        "**Exercise 7:** Enhance your calculator with new features!"
      ]
    },
    {
      "cell_type": "code",
      "execution_count": null,
      "metadata": {
        "id": "KUQWj8e91n2k"
      },
      "outputs": [],
      "source": [
        "# TODO: Create an enhanced version of your calculator\n",
        "# Add these features:\n",
        "# 1. Multiplication and division options\n",
        "# 2. Option to use more or fewer than 4 numbers\n",
        "# 3. History of calculations\n",
        "# 4. Ability to repeat calculations\n",
        "\n",
        "def enhanced_calculator():\n",
        "    \"\"\"Your enhanced calculator with more features\"\"\"\n",
        "    print(\"🚀 Enhanced KAUST Academy Calculator\")\n",
        "    print(\"=\" * 45)\n",
        "\n",
        "    # Your enhanced code here\n",
        "    pass\n",
        "\n",
        "# Uncomment to test your enhanced calculator\n",
        "# enhanced_calculator()\n",
        "\n",
        "print(\"💡 Enhancement Ideas:\")\n",
        "print(\"• Add more mathematical operations\")\n",
        "print(\"• Save calculations to a list\")\n",
        "print(\"• Add a menu system\")\n",
        "print(\"• Include square root and power functions\")\n",
        "print(\"• Add input validation\")\n",
        "print(\"• Create a loop to do multiple calculations\")"
      ]
    },
    {
      "cell_type": "markdown",
      "metadata": {
        "id": "nWrysnzu1n2k"
      },
      "source": [
        "# **📌 Congratulations! 🎉**\n",
        "\n",
        "You've successfully completed the **Python Basics Lab**! 🎓\n",
        "\n",
        "## **🏆 What You've Accomplished:**\n",
        "- ✅ **Variables and Data Types:** Storing and using information\n",
        "- ✅ **Mathematical Operations:** Making computers calculate for you\n",
        "- ✅ **User Input:** Creating interactive programs\n",
        "- ✅ **Decision Making:** Using if statements to control program flow\n",
        "- ✅ **Loops:** Repeating actions efficiently\n",
        "- ✅ **Functions:** Writing reusable code blocks\n",
        "- ✅ **Lists:** Working with collections of data\n",
        "- ✅ **Final Project:** Building a complete calculator application\n",
        "\n",
        "## **🚀 You're Now Ready For:**\n",
        "- More advanced Python programming\n",
        "- Working with libraries like NumPy and Pandas\n",
        "- Building larger projects and applications\n",
        "- Learning web development with Python\n",
        "- Exploring data science and machine learning\n",
        "\n",
        "## **📚 Next Steps:**\n",
        "1. **Practice regularly:** Build small projects every day\n",
        "2. **Join Python communities:** Connect with other programmers\n",
        "3. **Take on challenges:** Try coding challenges on websites like HackerRank\n",
        "4. **Build projects:** Create things that interest you\n",
        "5. **Keep learning:** Explore advanced Python topics\n",
        "\n",
        "---\n",
        "\n",
        "**\"The journey of a thousand miles begins with a single step.\"**\n",
        "\n",
        "**You've taken your first steps in programming. Keep walking! 🚶‍♂️➡️🏃‍♂️**\n",
        "\n",
        "---\n",
        "\n",
        "### 🧠 **Created for KAUST Academy**\n",
        "### 👨‍🏫 **Presented by: Ali Alqutayfi & Hassain Alsayhah**\n",
        "### 🐍 **Python Programming Fundamentals**\n",
        "\n",
        "**Happy Coding! 🐍💙**"
      ]
    }
  ],
  "metadata": {
    "kernelspec": {
      "display_name": "Python 3",
      "language": "python",
      "name": "python3"
    },
    "language_info": {
      "codemirror_mode": {
        "name": "ipython",
        "version": 3
      },
      "file_extension": ".py",
      "mimetype": "text/x-python",
      "name": "python",
      "nbconvert_exporter": "python",
      "pygments_lexer": "ipython3",
      "version": "3.8.5"
    },
    "colab": {
      "provenance": []
    }
  },
  "nbformat": 4,
  "nbformat_minor": 0
}